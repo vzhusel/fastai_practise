{
  "nbformat": 4,
  "nbformat_minor": 0,
  "metadata": {
    "colab": {
      "provenance": [],
      "mount_file_id": "1DHiAAc89z0GQ2RNNqKMKl5U5L33BzJPB",
      "authorship_tag": "ABX9TyNcxuYY40YSK+fb2ney7nWg",
      "include_colab_link": true
    },
    "kernelspec": {
      "name": "python3",
      "display_name": "Python 3"
    },
    "language_info": {
      "name": "python"
    },
    "widgets": {
      "application/vnd.jupyter.widget-state+json": {
        "3433dea927334fdab949a895c7632c54": {
          "model_module": "@jupyter-widgets/controls",
          "model_name": "VBoxModel",
          "model_module_version": "1.5.0",
          "state": {
            "_dom_classes": [],
            "_model_module": "@jupyter-widgets/controls",
            "_model_module_version": "1.5.0",
            "_model_name": "VBoxModel",
            "_view_count": null,
            "_view_module": "@jupyter-widgets/controls",
            "_view_module_version": "1.5.0",
            "_view_name": "VBoxView",
            "box_style": "",
            "children": [
              "IPY_MODEL_0c215156ec954aafa256b2e53e8b23d0",
              "IPY_MODEL_a9e78da24c144ddb884b2747be049a6f",
              "IPY_MODEL_dda6dbb10ca04c55a714740165ae1cd8",
              "IPY_MODEL_34bb4510f7fd4a989d210cb2d2c4669f",
              "IPY_MODEL_6314e56979074f90b1549a772d0f4662"
            ],
            "layout": "IPY_MODEL_e05dc1e6b9b84c3f9c8f596b8bc87ec9"
          }
        },
        "0c215156ec954aafa256b2e53e8b23d0": {
          "model_module": "@jupyter-widgets/controls",
          "model_name": "LabelModel",
          "model_module_version": "1.5.0",
          "state": {
            "_dom_classes": [],
            "_model_module": "@jupyter-widgets/controls",
            "_model_module_version": "1.5.0",
            "_model_name": "LabelModel",
            "_view_count": null,
            "_view_module": "@jupyter-widgets/controls",
            "_view_module_version": "1.5.0",
            "_view_name": "LabelView",
            "description": "",
            "description_tooltip": null,
            "layout": "IPY_MODEL_bc8730c23ce9499b9f883ebb3b1efcd5",
            "placeholder": "​",
            "style": "IPY_MODEL_f52165116be7421db558307e4dd3b9f1",
            "value": "Select your owl!"
          }
        },
        "a9e78da24c144ddb884b2747be049a6f": {
          "model_module": "@jupyter-widgets/controls",
          "model_name": "FileUploadModel",
          "model_module_version": "1.5.0",
          "state": {
            "_counter": 1,
            "_dom_classes": [],
            "_model_module": "@jupyter-widgets/controls",
            "_model_module_version": "1.5.0",
            "_model_name": "FileUploadModel",
            "_view_count": null,
            "_view_module": "@jupyter-widgets/controls",
            "_view_module_version": "1.5.0",
            "_view_name": "FileUploadView",
            "accept": "",
            "button_style": "",
            "data": [
              null
            ],
            "description": "Upload",
            "description_tooltip": null,
            "disabled": false,
            "error": "",
            "icon": "upload",
            "layout": "IPY_MODEL_4bba03900e0249b58a3f36b859c02bee",
            "metadata": [
              {
                "name": "fe67aaff-607d-4c45-8762-b696550be09b.jpg",
                "type": "image/jpeg",
                "size": 464745,
                "lastModified": 1691308272388
              }
            ],
            "multiple": false,
            "style": "IPY_MODEL_ee511882f8874f6293a6fa3974295d5f"
          }
        },
        "dda6dbb10ca04c55a714740165ae1cd8": {
          "model_module": "@jupyter-widgets/controls",
          "model_name": "ButtonModel",
          "model_module_version": "1.5.0",
          "state": {
            "_dom_classes": [],
            "_model_module": "@jupyter-widgets/controls",
            "_model_module_version": "1.5.0",
            "_model_name": "ButtonModel",
            "_view_count": null,
            "_view_module": "@jupyter-widgets/controls",
            "_view_module_version": "1.5.0",
            "_view_name": "ButtonView",
            "button_style": "",
            "description": "Classify",
            "disabled": false,
            "icon": "",
            "layout": "IPY_MODEL_ff625c161b5e42ab92f4b2b8248938f0",
            "style": "IPY_MODEL_07b66c212ea24f45b3f568e3c5f33ae0",
            "tooltip": ""
          }
        },
        "34bb4510f7fd4a989d210cb2d2c4669f": {
          "model_module": "@jupyter-widgets/output",
          "model_name": "OutputModel",
          "model_module_version": "1.0.0",
          "state": {
            "_dom_classes": [],
            "_model_module": "@jupyter-widgets/output",
            "_model_module_version": "1.0.0",
            "_model_name": "OutputModel",
            "_view_count": null,
            "_view_module": "@jupyter-widgets/output",
            "_view_module_version": "1.0.0",
            "_view_name": "OutputView",
            "layout": "IPY_MODEL_8444068641d04268bdca0e0609dfd747",
            "msg_id": "",
            "outputs": [
              {
                "output_type": "display_data",
                "data": {
                  "text/plain": "<PIL.Image.Image image mode=RGB size=128x96>",
                  "image/png": "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\n"
                },
                "metadata": {}
              }
            ]
          }
        },
        "6314e56979074f90b1549a772d0f4662": {
          "model_module": "@jupyter-widgets/controls",
          "model_name": "LabelModel",
          "model_module_version": "1.5.0",
          "state": {
            "_dom_classes": [],
            "_model_module": "@jupyter-widgets/controls",
            "_model_module_version": "1.5.0",
            "_model_name": "LabelModel",
            "_view_count": null,
            "_view_module": "@jupyter-widgets/controls",
            "_view_module_version": "1.5.0",
            "_view_name": "LabelView",
            "description": "",
            "description_tooltip": null,
            "layout": "IPY_MODEL_cb4a42bd29ca44f58a1f5848bf36cce5",
            "placeholder": "​",
            "style": "IPY_MODEL_cca6f9bed7f84d92b7c955661fa56d79",
            "value": "Prediction: Snowy owl; Probability: 1.0000"
          }
        },
        "e05dc1e6b9b84c3f9c8f596b8bc87ec9": {
          "model_module": "@jupyter-widgets/base",
          "model_name": "LayoutModel",
          "model_module_version": "1.2.0",
          "state": {
            "_model_module": "@jupyter-widgets/base",
            "_model_module_version": "1.2.0",
            "_model_name": "LayoutModel",
            "_view_count": null,
            "_view_module": "@jupyter-widgets/base",
            "_view_module_version": "1.2.0",
            "_view_name": "LayoutView",
            "align_content": null,
            "align_items": null,
            "align_self": null,
            "border": null,
            "bottom": null,
            "display": null,
            "flex": null,
            "flex_flow": null,
            "grid_area": null,
            "grid_auto_columns": null,
            "grid_auto_flow": null,
            "grid_auto_rows": null,
            "grid_column": null,
            "grid_gap": null,
            "grid_row": null,
            "grid_template_areas": null,
            "grid_template_columns": null,
            "grid_template_rows": null,
            "height": null,
            "justify_content": null,
            "justify_items": null,
            "left": null,
            "margin": null,
            "max_height": null,
            "max_width": null,
            "min_height": null,
            "min_width": null,
            "object_fit": null,
            "object_position": null,
            "order": null,
            "overflow": null,
            "overflow_x": null,
            "overflow_y": null,
            "padding": null,
            "right": null,
            "top": null,
            "visibility": null,
            "width": null
          }
        },
        "bc8730c23ce9499b9f883ebb3b1efcd5": {
          "model_module": "@jupyter-widgets/base",
          "model_name": "LayoutModel",
          "model_module_version": "1.2.0",
          "state": {
            "_model_module": "@jupyter-widgets/base",
            "_model_module_version": "1.2.0",
            "_model_name": "LayoutModel",
            "_view_count": null,
            "_view_module": "@jupyter-widgets/base",
            "_view_module_version": "1.2.0",
            "_view_name": "LayoutView",
            "align_content": null,
            "align_items": null,
            "align_self": null,
            "border": null,
            "bottom": null,
            "display": null,
            "flex": null,
            "flex_flow": null,
            "grid_area": null,
            "grid_auto_columns": null,
            "grid_auto_flow": null,
            "grid_auto_rows": null,
            "grid_column": null,
            "grid_gap": null,
            "grid_row": null,
            "grid_template_areas": null,
            "grid_template_columns": null,
            "grid_template_rows": null,
            "height": null,
            "justify_content": null,
            "justify_items": null,
            "left": null,
            "margin": null,
            "max_height": null,
            "max_width": null,
            "min_height": null,
            "min_width": null,
            "object_fit": null,
            "object_position": null,
            "order": null,
            "overflow": null,
            "overflow_x": null,
            "overflow_y": null,
            "padding": null,
            "right": null,
            "top": null,
            "visibility": null,
            "width": null
          }
        },
        "f52165116be7421db558307e4dd3b9f1": {
          "model_module": "@jupyter-widgets/controls",
          "model_name": "DescriptionStyleModel",
          "model_module_version": "1.5.0",
          "state": {
            "_model_module": "@jupyter-widgets/controls",
            "_model_module_version": "1.5.0",
            "_model_name": "DescriptionStyleModel",
            "_view_count": null,
            "_view_module": "@jupyter-widgets/base",
            "_view_module_version": "1.2.0",
            "_view_name": "StyleView",
            "description_width": ""
          }
        },
        "4bba03900e0249b58a3f36b859c02bee": {
          "model_module": "@jupyter-widgets/base",
          "model_name": "LayoutModel",
          "model_module_version": "1.2.0",
          "state": {
            "_model_module": "@jupyter-widgets/base",
            "_model_module_version": "1.2.0",
            "_model_name": "LayoutModel",
            "_view_count": null,
            "_view_module": "@jupyter-widgets/base",
            "_view_module_version": "1.2.0",
            "_view_name": "LayoutView",
            "align_content": null,
            "align_items": null,
            "align_self": null,
            "border": null,
            "bottom": null,
            "display": null,
            "flex": null,
            "flex_flow": null,
            "grid_area": null,
            "grid_auto_columns": null,
            "grid_auto_flow": null,
            "grid_auto_rows": null,
            "grid_column": null,
            "grid_gap": null,
            "grid_row": null,
            "grid_template_areas": null,
            "grid_template_columns": null,
            "grid_template_rows": null,
            "height": null,
            "justify_content": null,
            "justify_items": null,
            "left": null,
            "margin": null,
            "max_height": null,
            "max_width": null,
            "min_height": null,
            "min_width": null,
            "object_fit": null,
            "object_position": null,
            "order": null,
            "overflow": null,
            "overflow_x": null,
            "overflow_y": null,
            "padding": null,
            "right": null,
            "top": null,
            "visibility": null,
            "width": null
          }
        },
        "ee511882f8874f6293a6fa3974295d5f": {
          "model_module": "@jupyter-widgets/controls",
          "model_name": "ButtonStyleModel",
          "model_module_version": "1.5.0",
          "state": {
            "_model_module": "@jupyter-widgets/controls",
            "_model_module_version": "1.5.0",
            "_model_name": "ButtonStyleModel",
            "_view_count": null,
            "_view_module": "@jupyter-widgets/base",
            "_view_module_version": "1.2.0",
            "_view_name": "StyleView",
            "button_color": null,
            "font_weight": ""
          }
        },
        "ff625c161b5e42ab92f4b2b8248938f0": {
          "model_module": "@jupyter-widgets/base",
          "model_name": "LayoutModel",
          "model_module_version": "1.2.0",
          "state": {
            "_model_module": "@jupyter-widgets/base",
            "_model_module_version": "1.2.0",
            "_model_name": "LayoutModel",
            "_view_count": null,
            "_view_module": "@jupyter-widgets/base",
            "_view_module_version": "1.2.0",
            "_view_name": "LayoutView",
            "align_content": null,
            "align_items": null,
            "align_self": null,
            "border": null,
            "bottom": null,
            "display": null,
            "flex": null,
            "flex_flow": null,
            "grid_area": null,
            "grid_auto_columns": null,
            "grid_auto_flow": null,
            "grid_auto_rows": null,
            "grid_column": null,
            "grid_gap": null,
            "grid_row": null,
            "grid_template_areas": null,
            "grid_template_columns": null,
            "grid_template_rows": null,
            "height": null,
            "justify_content": null,
            "justify_items": null,
            "left": null,
            "margin": null,
            "max_height": null,
            "max_width": null,
            "min_height": null,
            "min_width": null,
            "object_fit": null,
            "object_position": null,
            "order": null,
            "overflow": null,
            "overflow_x": null,
            "overflow_y": null,
            "padding": null,
            "right": null,
            "top": null,
            "visibility": null,
            "width": null
          }
        },
        "07b66c212ea24f45b3f568e3c5f33ae0": {
          "model_module": "@jupyter-widgets/controls",
          "model_name": "ButtonStyleModel",
          "model_module_version": "1.5.0",
          "state": {
            "_model_module": "@jupyter-widgets/controls",
            "_model_module_version": "1.5.0",
            "_model_name": "ButtonStyleModel",
            "_view_count": null,
            "_view_module": "@jupyter-widgets/base",
            "_view_module_version": "1.2.0",
            "_view_name": "StyleView",
            "button_color": null,
            "font_weight": ""
          }
        },
        "cb4a42bd29ca44f58a1f5848bf36cce5": {
          "model_module": "@jupyter-widgets/base",
          "model_name": "LayoutModel",
          "model_module_version": "1.2.0",
          "state": {
            "_model_module": "@jupyter-widgets/base",
            "_model_module_version": "1.2.0",
            "_model_name": "LayoutModel",
            "_view_count": null,
            "_view_module": "@jupyter-widgets/base",
            "_view_module_version": "1.2.0",
            "_view_name": "LayoutView",
            "align_content": null,
            "align_items": null,
            "align_self": null,
            "border": null,
            "bottom": null,
            "display": null,
            "flex": null,
            "flex_flow": null,
            "grid_area": null,
            "grid_auto_columns": null,
            "grid_auto_flow": null,
            "grid_auto_rows": null,
            "grid_column": null,
            "grid_gap": null,
            "grid_row": null,
            "grid_template_areas": null,
            "grid_template_columns": null,
            "grid_template_rows": null,
            "height": null,
            "justify_content": null,
            "justify_items": null,
            "left": null,
            "margin": null,
            "max_height": null,
            "max_width": null,
            "min_height": null,
            "min_width": null,
            "object_fit": null,
            "object_position": null,
            "order": null,
            "overflow": null,
            "overflow_x": null,
            "overflow_y": null,
            "padding": null,
            "right": null,
            "top": null,
            "visibility": null,
            "width": null
          }
        },
        "cca6f9bed7f84d92b7c955661fa56d79": {
          "model_module": "@jupyter-widgets/controls",
          "model_name": "DescriptionStyleModel",
          "model_module_version": "1.5.0",
          "state": {
            "_model_module": "@jupyter-widgets/controls",
            "_model_module_version": "1.5.0",
            "_model_name": "DescriptionStyleModel",
            "_view_count": null,
            "_view_module": "@jupyter-widgets/base",
            "_view_module_version": "1.2.0",
            "_view_name": "StyleView",
            "description_width": ""
          }
        },
        "8444068641d04268bdca0e0609dfd747": {
          "model_module": "@jupyter-widgets/base",
          "model_name": "LayoutModel",
          "model_module_version": "1.2.0",
          "state": {
            "_model_module": "@jupyter-widgets/base",
            "_model_module_version": "1.2.0",
            "_model_name": "LayoutModel",
            "_view_count": null,
            "_view_module": "@jupyter-widgets/base",
            "_view_module_version": "1.2.0",
            "_view_name": "LayoutView",
            "align_content": null,
            "align_items": null,
            "align_self": null,
            "border": null,
            "bottom": null,
            "display": null,
            "flex": null,
            "flex_flow": null,
            "grid_area": null,
            "grid_auto_columns": null,
            "grid_auto_flow": null,
            "grid_auto_rows": null,
            "grid_column": null,
            "grid_gap": null,
            "grid_row": null,
            "grid_template_areas": null,
            "grid_template_columns": null,
            "grid_template_rows": null,
            "height": null,
            "justify_content": null,
            "justify_items": null,
            "left": null,
            "margin": null,
            "max_height": null,
            "max_width": null,
            "min_height": null,
            "min_width": null,
            "object_fit": null,
            "object_position": null,
            "order": null,
            "overflow": null,
            "overflow_x": null,
            "overflow_y": null,
            "padding": null,
            "right": null,
            "top": null,
            "visibility": null,
            "width": null
          }
        }
      }
    }
  },
  "cells": [
    {
      "cell_type": "markdown",
      "metadata": {
        "id": "view-in-github",
        "colab_type": "text"
      },
      "source": [
        "<a href=\"https://colab.research.google.com/github/vzhusel/fastai_practise/blob/main/002_owles_recognizer_app.ipynb\" target=\"_parent\"><img src=\"https://colab.research.google.com/assets/colab-badge.svg\" alt=\"Open In Colab\"/></a>"
      ]
    },
    {
      "cell_type": "code",
      "source": [
        "#hide\n",
        "!pip install voila\n",
        "!jupyter serverextension enable --sys-prefix voila"
      ],
      "metadata": {
        "colab": {
          "base_uri": "https://localhost:8080/",
          "height": 1000
        },
        "id": "CUfSFaDM1K5b",
        "outputId": "255d1153-1138-4055-8499-83781f6dda1e"
      },
      "execution_count": 15,
      "outputs": [
        {
          "output_type": "stream",
          "name": "stdout",
          "text": [
            "Collecting voila\n",
            "  Downloading voila-0.4.3-py3-none-any.whl (1.4 MB)\n",
            "\u001b[2K     \u001b[90m━━━━━━━━━━━━━━━━━━━━━━━━━━━━━━━━━━━━━━━━\u001b[0m \u001b[32m1.4/1.4 MB\u001b[0m \u001b[31m7.1 MB/s\u001b[0m eta \u001b[36m0:00:00\u001b[0m\n",
            "\u001b[?25hRequirement already satisfied: jupyter-client<9,>=6.1.3 in /usr/local/lib/python3.10/dist-packages (from voila) (6.1.12)\n",
            "Requirement already satisfied: jupyter-core>=4.11.0 in /usr/local/lib/python3.10/dist-packages (from voila) (5.3.1)\n",
            "Requirement already satisfied: jupyter-server<3,>=1.18 in /usr/local/lib/python3.10/dist-packages (from voila) (1.24.0)\n",
            "Collecting jupyterlab-server<3,>=2.3.0 (from voila)\n",
            "  Downloading jupyterlab_server-2.24.0-py3-none-any.whl (57 kB)\n",
            "\u001b[2K     \u001b[90m━━━━━━━━━━━━━━━━━━━━━━━━━━━━━━━━━━━━━━━━\u001b[0m \u001b[32m57.3/57.3 kB\u001b[0m \u001b[31m5.7 MB/s\u001b[0m eta \u001b[36m0:00:00\u001b[0m\n",
            "\u001b[?25hCollecting nbclient<0.8,>=0.4.0 (from voila)\n",
            "  Downloading nbclient-0.7.4-py3-none-any.whl (73 kB)\n",
            "\u001b[2K     \u001b[90m━━━━━━━━━━━━━━━━━━━━━━━━━━━━━━━━━━━━━━━━\u001b[0m \u001b[32m73.1/73.1 kB\u001b[0m \u001b[31m7.8 MB/s\u001b[0m eta \u001b[36m0:00:00\u001b[0m\n",
            "\u001b[?25hRequirement already satisfied: nbconvert<8,>=6.4.5 in /usr/local/lib/python3.10/dist-packages (from voila) (6.5.4)\n",
            "Requirement already satisfied: traitlets<6,>=5.0.3 in /usr/local/lib/python3.10/dist-packages (from voila) (5.7.1)\n",
            "Collecting websockets>=9.0 (from voila)\n",
            "  Downloading websockets-11.0.3-cp310-cp310-manylinux_2_5_x86_64.manylinux1_x86_64.manylinux_2_17_x86_64.manylinux2014_x86_64.whl (129 kB)\n",
            "\u001b[2K     \u001b[90m━━━━━━━━━━━━━━━━━━━━━━━━━━━━━━━━━━━━━━\u001b[0m \u001b[32m129.9/129.9 kB\u001b[0m \u001b[31m10.9 MB/s\u001b[0m eta \u001b[36m0:00:00\u001b[0m\n",
            "\u001b[?25hRequirement already satisfied: pyzmq>=13 in /usr/local/lib/python3.10/dist-packages (from jupyter-client<9,>=6.1.3->voila) (23.2.1)\n",
            "Requirement already satisfied: python-dateutil>=2.1 in /usr/local/lib/python3.10/dist-packages (from jupyter-client<9,>=6.1.3->voila) (2.8.2)\n",
            "Requirement already satisfied: tornado>=4.1 in /usr/local/lib/python3.10/dist-packages (from jupyter-client<9,>=6.1.3->voila) (6.3.1)\n",
            "Requirement already satisfied: platformdirs>=2.5 in /usr/local/lib/python3.10/dist-packages (from jupyter-core>=4.11.0->voila) (3.9.1)\n",
            "Requirement already satisfied: anyio<4,>=3.1.0 in /usr/local/lib/python3.10/dist-packages (from jupyter-server<3,>=1.18->voila) (3.7.1)\n",
            "Requirement already satisfied: argon2-cffi in /usr/local/lib/python3.10/dist-packages (from jupyter-server<3,>=1.18->voila) (21.3.0)\n",
            "Requirement already satisfied: jinja2 in /usr/local/lib/python3.10/dist-packages (from jupyter-server<3,>=1.18->voila) (3.1.2)\n",
            "Requirement already satisfied: nbformat>=5.2.0 in /usr/local/lib/python3.10/dist-packages (from jupyter-server<3,>=1.18->voila) (5.9.1)\n",
            "Requirement already satisfied: packaging in /usr/local/lib/python3.10/dist-packages (from jupyter-server<3,>=1.18->voila) (23.1)\n",
            "Requirement already satisfied: prometheus-client in /usr/local/lib/python3.10/dist-packages (from jupyter-server<3,>=1.18->voila) (0.17.1)\n",
            "Requirement already satisfied: Send2Trash in /usr/local/lib/python3.10/dist-packages (from jupyter-server<3,>=1.18->voila) (1.8.2)\n",
            "Requirement already satisfied: terminado>=0.8.3 in /usr/local/lib/python3.10/dist-packages (from jupyter-server<3,>=1.18->voila) (0.17.1)\n",
            "Requirement already satisfied: websocket-client in /usr/local/lib/python3.10/dist-packages (from jupyter-server<3,>=1.18->voila) (1.6.1)\n",
            "Requirement already satisfied: babel>=2.10 in /usr/local/lib/python3.10/dist-packages (from jupyterlab-server<3,>=2.3.0->voila) (2.12.1)\n",
            "Collecting json5>=0.9.0 (from jupyterlab-server<3,>=2.3.0->voila)\n",
            "  Downloading json5-0.9.14-py2.py3-none-any.whl (19 kB)\n",
            "Collecting jsonschema>=4.17.3 (from jupyterlab-server<3,>=2.3.0->voila)\n",
            "  Downloading jsonschema-4.18.6-py3-none-any.whl (83 kB)\n",
            "\u001b[2K     \u001b[90m━━━━━━━━━━━━━━━━━━━━━━━━━━━━━━━━━━━━━━━━\u001b[0m \u001b[32m83.2/83.2 kB\u001b[0m \u001b[31m8.6 MB/s\u001b[0m eta \u001b[36m0:00:00\u001b[0m\n",
            "\u001b[?25hCollecting requests>=2.28 (from jupyterlab-server<3,>=2.3.0->voila)\n",
            "  Downloading requests-2.31.0-py3-none-any.whl (62 kB)\n",
            "\u001b[2K     \u001b[90m━━━━━━━━━━━━━━━━━━━━━━━━━━━━━━━━━━━━━━━━\u001b[0m \u001b[32m62.6/62.6 kB\u001b[0m \u001b[31m6.6 MB/s\u001b[0m eta \u001b[36m0:00:00\u001b[0m\n",
            "\u001b[?25hRequirement already satisfied: lxml in /usr/local/lib/python3.10/dist-packages (from nbconvert<8,>=6.4.5->voila) (4.9.3)\n",
            "Requirement already satisfied: beautifulsoup4 in /usr/local/lib/python3.10/dist-packages (from nbconvert<8,>=6.4.5->voila) (4.11.2)\n",
            "Requirement already satisfied: bleach in /usr/local/lib/python3.10/dist-packages (from nbconvert<8,>=6.4.5->voila) (6.0.0)\n",
            "Requirement already satisfied: defusedxml in /usr/local/lib/python3.10/dist-packages (from nbconvert<8,>=6.4.5->voila) (0.7.1)\n",
            "Requirement already satisfied: entrypoints>=0.2.2 in /usr/local/lib/python3.10/dist-packages (from nbconvert<8,>=6.4.5->voila) (0.4)\n",
            "Requirement already satisfied: jupyterlab-pygments in /usr/local/lib/python3.10/dist-packages (from nbconvert<8,>=6.4.5->voila) (0.2.2)\n",
            "Requirement already satisfied: MarkupSafe>=2.0 in /usr/local/lib/python3.10/dist-packages (from nbconvert<8,>=6.4.5->voila) (2.1.3)\n",
            "Requirement already satisfied: mistune<2,>=0.8.1 in /usr/local/lib/python3.10/dist-packages (from nbconvert<8,>=6.4.5->voila) (0.8.4)\n",
            "Requirement already satisfied: pandocfilters>=1.4.1 in /usr/local/lib/python3.10/dist-packages (from nbconvert<8,>=6.4.5->voila) (1.5.0)\n",
            "Requirement already satisfied: pygments>=2.4.1 in /usr/local/lib/python3.10/dist-packages (from nbconvert<8,>=6.4.5->voila) (2.14.0)\n",
            "Requirement already satisfied: tinycss2 in /usr/local/lib/python3.10/dist-packages (from nbconvert<8,>=6.4.5->voila) (1.2.1)\n",
            "Requirement already satisfied: idna>=2.8 in /usr/local/lib/python3.10/dist-packages (from anyio<4,>=3.1.0->jupyter-server<3,>=1.18->voila) (3.4)\n",
            "Requirement already satisfied: sniffio>=1.1 in /usr/local/lib/python3.10/dist-packages (from anyio<4,>=3.1.0->jupyter-server<3,>=1.18->voila) (1.3.0)\n",
            "Requirement already satisfied: exceptiongroup in /usr/local/lib/python3.10/dist-packages (from anyio<4,>=3.1.0->jupyter-server<3,>=1.18->voila) (1.1.2)\n",
            "Requirement already satisfied: attrs>=22.2.0 in /usr/local/lib/python3.10/dist-packages (from jsonschema>=4.17.3->jupyterlab-server<3,>=2.3.0->voila) (23.1.0)\n",
            "Collecting jsonschema-specifications>=2023.03.6 (from jsonschema>=4.17.3->jupyterlab-server<3,>=2.3.0->voila)\n",
            "  Downloading jsonschema_specifications-2023.7.1-py3-none-any.whl (17 kB)\n",
            "Collecting referencing>=0.28.4 (from jsonschema>=4.17.3->jupyterlab-server<3,>=2.3.0->voila)\n",
            "  Downloading referencing-0.30.2-py3-none-any.whl (25 kB)\n",
            "Collecting rpds-py>=0.7.1 (from jsonschema>=4.17.3->jupyterlab-server<3,>=2.3.0->voila)\n",
            "  Downloading rpds_py-0.9.2-cp310-cp310-manylinux_2_17_x86_64.manylinux2014_x86_64.whl (1.2 MB)\n",
            "\u001b[2K     \u001b[90m━━━━━━━━━━━━━━━━━━━━━━━━━━━━━━━━━━━━━━━━\u001b[0m \u001b[32m1.2/1.2 MB\u001b[0m \u001b[31m11.8 MB/s\u001b[0m eta \u001b[36m0:00:00\u001b[0m\n",
            "\u001b[?25hRequirement already satisfied: fastjsonschema in /usr/local/lib/python3.10/dist-packages (from nbformat>=5.2.0->jupyter-server<3,>=1.18->voila) (2.18.0)\n",
            "Requirement already satisfied: six>=1.5 in /usr/local/lib/python3.10/dist-packages (from python-dateutil>=2.1->jupyter-client<9,>=6.1.3->voila) (1.16.0)\n",
            "Requirement already satisfied: charset-normalizer<4,>=2 in /usr/local/lib/python3.10/dist-packages (from requests>=2.28->jupyterlab-server<3,>=2.3.0->voila) (2.0.12)\n",
            "Requirement already satisfied: urllib3<3,>=1.21.1 in /usr/local/lib/python3.10/dist-packages (from requests>=2.28->jupyterlab-server<3,>=2.3.0->voila) (1.26.16)\n",
            "Requirement already satisfied: certifi>=2017.4.17 in /usr/local/lib/python3.10/dist-packages (from requests>=2.28->jupyterlab-server<3,>=2.3.0->voila) (2023.7.22)\n",
            "Requirement already satisfied: ptyprocess in /usr/local/lib/python3.10/dist-packages (from terminado>=0.8.3->jupyter-server<3,>=1.18->voila) (0.7.0)\n",
            "Requirement already satisfied: argon2-cffi-bindings in /usr/local/lib/python3.10/dist-packages (from argon2-cffi->jupyter-server<3,>=1.18->voila) (21.2.0)\n",
            "Requirement already satisfied: soupsieve>1.2 in /usr/local/lib/python3.10/dist-packages (from beautifulsoup4->nbconvert<8,>=6.4.5->voila) (2.4.1)\n",
            "Requirement already satisfied: webencodings in /usr/local/lib/python3.10/dist-packages (from bleach->nbconvert<8,>=6.4.5->voila) (0.5.1)\n",
            "Requirement already satisfied: cffi>=1.0.1 in /usr/local/lib/python3.10/dist-packages (from argon2-cffi-bindings->argon2-cffi->jupyter-server<3,>=1.18->voila) (1.15.1)\n",
            "Requirement already satisfied: pycparser in /usr/local/lib/python3.10/dist-packages (from cffi>=1.0.1->argon2-cffi-bindings->argon2-cffi->jupyter-server<3,>=1.18->voila) (2.21)\n",
            "Installing collected packages: json5, websockets, rpds-py, requests, referencing, jsonschema-specifications, jsonschema, nbclient, jupyterlab-server, voila\n",
            "  Attempting uninstall: requests\n",
            "    Found existing installation: requests 2.27.1\n",
            "    Uninstalling requests-2.27.1:\n",
            "      Successfully uninstalled requests-2.27.1\n",
            "  Attempting uninstall: jsonschema\n",
            "    Found existing installation: jsonschema 4.3.3\n",
            "    Uninstalling jsonschema-4.3.3:\n",
            "      Successfully uninstalled jsonschema-4.3.3\n",
            "  Attempting uninstall: nbclient\n",
            "    Found existing installation: nbclient 0.8.0\n",
            "    Uninstalling nbclient-0.8.0:\n",
            "      Successfully uninstalled nbclient-0.8.0\n",
            "\u001b[31mERROR: pip's dependency resolver does not currently take into account all the packages that are installed. This behaviour is the source of the following dependency conflicts.\n",
            "google-colab 1.0.0 requires requests==2.27.1, but you have requests 2.31.0 which is incompatible.\u001b[0m\u001b[31m\n",
            "\u001b[0mSuccessfully installed json5-0.9.14 jsonschema-4.18.6 jsonschema-specifications-2023.7.1 jupyterlab-server-2.24.0 nbclient-0.7.4 referencing-0.30.2 requests-2.31.0 rpds-py-0.9.2 voila-0.4.3 websockets-11.0.3\n"
          ]
        },
        {
          "output_type": "display_data",
          "data": {
            "application/vnd.colab-display-data+json": {
              "pip_warning": {
                "packages": [
                  "requests"
                ]
              }
            }
          },
          "metadata": {}
        },
        {
          "output_type": "stream",
          "name": "stdout",
          "text": [
            "Enabling: voila\n",
            "- Writing config: /usr/etc/jupyter\n",
            "    - Validating...\n",
            "      voila 0.4.3 \u001b[32mOK\u001b[0m\n"
          ]
        }
      ]
    },
    {
      "cell_type": "code",
      "execution_count": 1,
      "metadata": {
        "id": "LDn669LgDEVJ"
      },
      "outputs": [],
      "source": [
        "from fastai.vision.all import *\n",
        "from fastai.vision.widgets import *"
      ]
    },
    {
      "cell_type": "code",
      "source": [
        "path = Path()\n",
        "learn_inf = load_learner(path/'002_owl_model.pkl')"
      ],
      "metadata": {
        "id": "GaNvrx5IExpI"
      },
      "execution_count": 6,
      "outputs": []
    },
    {
      "cell_type": "code",
      "source": [
        "#hide_output\n",
        "btn_upload = widgets.FileUpload()"
      ],
      "metadata": {
        "id": "nZf-a2LTDs6-"
      },
      "execution_count": 17,
      "outputs": []
    },
    {
      "cell_type": "code",
      "source": [
        "#hide_output\n",
        "lbl_pred = widgets.Label()\n",
        "lbl_pred.value = f'Prediction: {pred}; Probability: {probs[pred_idx]:.04f}'"
      ],
      "metadata": {
        "id": "lP1NtGo10pL6"
      },
      "execution_count": 19,
      "outputs": []
    },
    {
      "cell_type": "code",
      "source": [
        "#hide_output\n",
        "btn_run = widgets.Button(description='Classify')"
      ],
      "metadata": {
        "id": "4j-7ggd80tkw"
      },
      "execution_count": 20,
      "outputs": []
    },
    {
      "cell_type": "code",
      "source": [
        "def on_click_classify(change):\n",
        "    img = PILImage.create(btn_upload.data[-1])\n",
        "    out_pl.clear_output()\n",
        "    with out_pl: display(img.to_thumb(128,128))\n",
        "    pred,pred_idx,probs = learn_inf.predict(img)\n",
        "    lbl_pred.value = f'Prediction: {pred}; Probability: {probs[pred_idx]:.04f}'\n",
        "\n",
        "btn_run.on_click(on_click_classify)"
      ],
      "metadata": {
        "id": "DfzXbYH50wDt"
      },
      "execution_count": 21,
      "outputs": []
    },
    {
      "cell_type": "code",
      "source": [
        "#hide_output\n",
        "VBox([widgets.Label('Select your owl!'),\n",
        "      btn_upload, btn_run, out_pl, lbl_pred])"
      ],
      "metadata": {
        "colab": {
          "base_uri": "https://localhost:8080/",
          "height": 241,
          "referenced_widgets": [
            "3433dea927334fdab949a895c7632c54",
            "0c215156ec954aafa256b2e53e8b23d0",
            "a9e78da24c144ddb884b2747be049a6f",
            "dda6dbb10ca04c55a714740165ae1cd8",
            "34bb4510f7fd4a989d210cb2d2c4669f",
            "6314e56979074f90b1549a772d0f4662",
            "e05dc1e6b9b84c3f9c8f596b8bc87ec9",
            "bc8730c23ce9499b9f883ebb3b1efcd5",
            "f52165116be7421db558307e4dd3b9f1",
            "4bba03900e0249b58a3f36b859c02bee",
            "ee511882f8874f6293a6fa3974295d5f",
            "ff625c161b5e42ab92f4b2b8248938f0",
            "07b66c212ea24f45b3f568e3c5f33ae0",
            "cb4a42bd29ca44f58a1f5848bf36cce5",
            "cca6f9bed7f84d92b7c955661fa56d79",
            "8444068641d04268bdca0e0609dfd747"
          ]
        },
        "id": "FnEXkEBp02bI",
        "outputId": "39ddbcf9-6a66-40c8-ee5b-f99800b0bd65"
      },
      "execution_count": 22,
      "outputs": [
        {
          "output_type": "display_data",
          "data": {
            "text/plain": [
              "VBox(children=(Label(value='Select your owl!'), FileUpload(value={}, description='Upload'), Button(description…"
            ],
            "application/vnd.jupyter.widget-view+json": {
              "version_major": 2,
              "version_minor": 0,
              "model_id": "3433dea927334fdab949a895c7632c54"
            }
          },
          "metadata": {}
        },
        {
          "output_type": "display_data",
          "data": {
            "text/plain": [
              "<IPython.core.display.HTML object>"
            ],
            "text/html": [
              "\n",
              "<style>\n",
              "    /* Turns off some styling */\n",
              "    progress {\n",
              "        /* gets rid of default border in Firefox and Opera. */\n",
              "        border: none;\n",
              "        /* Needs to be in here for Safari polyfill so background images work as expected. */\n",
              "        background-size: auto;\n",
              "    }\n",
              "    progress:not([value]), progress:not([value])::-webkit-progress-bar {\n",
              "        background: repeating-linear-gradient(45deg, #7e7e7e, #7e7e7e 10px, #5c5c5c 10px, #5c5c5c 20px);\n",
              "    }\n",
              "    .progress-bar-interrupted, .progress-bar-interrupted::-webkit-progress-bar {\n",
              "        background: #F44336;\n",
              "    }\n",
              "</style>\n"
            ]
          },
          "metadata": {}
        },
        {
          "output_type": "display_data",
          "data": {
            "text/plain": [
              "<IPython.core.display.HTML object>"
            ],
            "text/html": []
          },
          "metadata": {}
        }
      ]
    }
  ]
}