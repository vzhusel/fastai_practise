{
  "nbformat": 4,
  "nbformat_minor": 0,
  "metadata": {
    "colab": {
      "provenance": [],
      "mount_file_id": "1DHiAAc89z0GQ2RNNqKMKl5U5L33BzJPB",
      "authorship_tag": "ABX9TyO+YckklIw9fC5UaGuYqDtf",
      "include_colab_link": true
    },
    "kernelspec": {
      "name": "python3",
      "display_name": "Python 3"
    },
    "language_info": {
      "name": "python"
    },
    "widgets": {
      "application/vnd.jupyter.widget-state+json": {
        "c18b786c61cd4445b003f3f7d21908c0": {
          "model_module": "@jupyter-widgets/controls",
          "model_name": "VBoxModel",
          "model_module_version": "1.5.0",
          "state": {
            "_dom_classes": [],
            "_model_module": "@jupyter-widgets/controls",
            "_model_module_version": "1.5.0",
            "_model_name": "VBoxModel",
            "_view_count": null,
            "_view_module": "@jupyter-widgets/controls",
            "_view_module_version": "1.5.0",
            "_view_name": "VBoxView",
            "box_style": "",
            "children": [
              "IPY_MODEL_809306cd985b4e648e3329a5c73ee504",
              "IPY_MODEL_30e432ee3551432ab60ad8ebeea731b4",
              "IPY_MODEL_2b0e45d8ed224cb198aa1a74eef19d25",
              "IPY_MODEL_5b0e63cc02174fd18bcf6088a67be330",
              "IPY_MODEL_573d02316d5e4e469f30e93866ad4134"
            ],
            "layout": "IPY_MODEL_04f75c455716487387ac30734e10e6a8"
          }
        },
        "809306cd985b4e648e3329a5c73ee504": {
          "model_module": "@jupyter-widgets/controls",
          "model_name": "LabelModel",
          "model_module_version": "1.5.0",
          "state": {
            "_dom_classes": [],
            "_model_module": "@jupyter-widgets/controls",
            "_model_module_version": "1.5.0",
            "_model_name": "LabelModel",
            "_view_count": null,
            "_view_module": "@jupyter-widgets/controls",
            "_view_module_version": "1.5.0",
            "_view_name": "LabelView",
            "description": "",
            "description_tooltip": null,
            "layout": "IPY_MODEL_6965622b2a8c4e62b43cd5b02c1d5ddf",
            "placeholder": "​",
            "style": "IPY_MODEL_0e62270c908f4af1b240d42f841833a0",
            "value": "Select your owl!"
          }
        },
        "30e432ee3551432ab60ad8ebeea731b4": {
          "model_module": "@jupyter-widgets/controls",
          "model_name": "FileUploadModel",
          "model_module_version": "1.5.0",
          "state": {
            "_counter": 1,
            "_dom_classes": [],
            "_model_module": "@jupyter-widgets/controls",
            "_model_module_version": "1.5.0",
            "_model_name": "FileUploadModel",
            "_view_count": null,
            "_view_module": "@jupyter-widgets/controls",
            "_view_module_version": "1.5.0",
            "_view_name": "FileUploadView",
            "accept": "",
            "button_style": "",
            "data": [
              null
            ],
            "description": "Upload",
            "description_tooltip": null,
            "disabled": false,
            "error": "",
            "icon": "upload",
            "layout": "IPY_MODEL_7c3d58a3d1994799be56b0617a42d2fa",
            "metadata": [
              {
                "name": "fa20dee2-4354-4f90-992b-67169650969a.jpg",
                "type": "image/jpeg",
                "size": 1383539,
                "lastModified": 1691308277883
              }
            ],
            "multiple": false,
            "style": "IPY_MODEL_1e7f435929fe456b97b894f561eb4ca6"
          }
        },
        "2b0e45d8ed224cb198aa1a74eef19d25": {
          "model_module": "@jupyter-widgets/controls",
          "model_name": "ButtonModel",
          "model_module_version": "1.5.0",
          "state": {
            "_dom_classes": [],
            "_model_module": "@jupyter-widgets/controls",
            "_model_module_version": "1.5.0",
            "_model_name": "ButtonModel",
            "_view_count": null,
            "_view_module": "@jupyter-widgets/controls",
            "_view_module_version": "1.5.0",
            "_view_name": "ButtonView",
            "button_style": "",
            "description": "Classify",
            "disabled": false,
            "icon": "",
            "layout": "IPY_MODEL_dbbc8a3b7e3c4f70b451ea9200e19967",
            "style": "IPY_MODEL_afd90f5ce67244de9c14fb89cb11a2fa",
            "tooltip": ""
          }
        },
        "5b0e63cc02174fd18bcf6088a67be330": {
          "model_module": "@jupyter-widgets/output",
          "model_name": "OutputModel",
          "model_module_version": "1.0.0",
          "state": {
            "_dom_classes": [],
            "_model_module": "@jupyter-widgets/output",
            "_model_module_version": "1.0.0",
            "_model_name": "OutputModel",
            "_view_count": null,
            "_view_module": "@jupyter-widgets/output",
            "_view_module_version": "1.0.0",
            "_view_name": "OutputView",
            "layout": "IPY_MODEL_799983c144334cdba96e4d1cb8737996",
            "msg_id": "",
            "outputs": [
              {
                "output_type": "display_data",
                "data": {
                  "text/plain": "<PIL.Image.Image image mode=RGB size=103x128>",
                  "image/png": "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\n"
                },
                "metadata": {}
              }
            ]
          }
        },
        "573d02316d5e4e469f30e93866ad4134": {
          "model_module": "@jupyter-widgets/controls",
          "model_name": "LabelModel",
          "model_module_version": "1.5.0",
          "state": {
            "_dom_classes": [],
            "_model_module": "@jupyter-widgets/controls",
            "_model_module_version": "1.5.0",
            "_model_name": "LabelModel",
            "_view_count": null,
            "_view_module": "@jupyter-widgets/controls",
            "_view_module_version": "1.5.0",
            "_view_name": "LabelView",
            "description": "",
            "description_tooltip": null,
            "layout": "IPY_MODEL_81f0820b7fc94082a9fb4dd7f7d211c8",
            "placeholder": "​",
            "style": "IPY_MODEL_f1b2d3ab27c649829d9b8303149fe131",
            "value": "Prediction: Barn owl; Probability: 1.0000"
          }
        },
        "04f75c455716487387ac30734e10e6a8": {
          "model_module": "@jupyter-widgets/base",
          "model_name": "LayoutModel",
          "model_module_version": "1.2.0",
          "state": {
            "_model_module": "@jupyter-widgets/base",
            "_model_module_version": "1.2.0",
            "_model_name": "LayoutModel",
            "_view_count": null,
            "_view_module": "@jupyter-widgets/base",
            "_view_module_version": "1.2.0",
            "_view_name": "LayoutView",
            "align_content": null,
            "align_items": null,
            "align_self": null,
            "border": null,
            "bottom": null,
            "display": null,
            "flex": null,
            "flex_flow": null,
            "grid_area": null,
            "grid_auto_columns": null,
            "grid_auto_flow": null,
            "grid_auto_rows": null,
            "grid_column": null,
            "grid_gap": null,
            "grid_row": null,
            "grid_template_areas": null,
            "grid_template_columns": null,
            "grid_template_rows": null,
            "height": null,
            "justify_content": null,
            "justify_items": null,
            "left": null,
            "margin": null,
            "max_height": null,
            "max_width": null,
            "min_height": null,
            "min_width": null,
            "object_fit": null,
            "object_position": null,
            "order": null,
            "overflow": null,
            "overflow_x": null,
            "overflow_y": null,
            "padding": null,
            "right": null,
            "top": null,
            "visibility": null,
            "width": null
          }
        },
        "6965622b2a8c4e62b43cd5b02c1d5ddf": {
          "model_module": "@jupyter-widgets/base",
          "model_name": "LayoutModel",
          "model_module_version": "1.2.0",
          "state": {
            "_model_module": "@jupyter-widgets/base",
            "_model_module_version": "1.2.0",
            "_model_name": "LayoutModel",
            "_view_count": null,
            "_view_module": "@jupyter-widgets/base",
            "_view_module_version": "1.2.0",
            "_view_name": "LayoutView",
            "align_content": null,
            "align_items": null,
            "align_self": null,
            "border": null,
            "bottom": null,
            "display": null,
            "flex": null,
            "flex_flow": null,
            "grid_area": null,
            "grid_auto_columns": null,
            "grid_auto_flow": null,
            "grid_auto_rows": null,
            "grid_column": null,
            "grid_gap": null,
            "grid_row": null,
            "grid_template_areas": null,
            "grid_template_columns": null,
            "grid_template_rows": null,
            "height": null,
            "justify_content": null,
            "justify_items": null,
            "left": null,
            "margin": null,
            "max_height": null,
            "max_width": null,
            "min_height": null,
            "min_width": null,
            "object_fit": null,
            "object_position": null,
            "order": null,
            "overflow": null,
            "overflow_x": null,
            "overflow_y": null,
            "padding": null,
            "right": null,
            "top": null,
            "visibility": null,
            "width": null
          }
        },
        "0e62270c908f4af1b240d42f841833a0": {
          "model_module": "@jupyter-widgets/controls",
          "model_name": "DescriptionStyleModel",
          "model_module_version": "1.5.0",
          "state": {
            "_model_module": "@jupyter-widgets/controls",
            "_model_module_version": "1.5.0",
            "_model_name": "DescriptionStyleModel",
            "_view_count": null,
            "_view_module": "@jupyter-widgets/base",
            "_view_module_version": "1.2.0",
            "_view_name": "StyleView",
            "description_width": ""
          }
        },
        "7c3d58a3d1994799be56b0617a42d2fa": {
          "model_module": "@jupyter-widgets/base",
          "model_name": "LayoutModel",
          "model_module_version": "1.2.0",
          "state": {
            "_model_module": "@jupyter-widgets/base",
            "_model_module_version": "1.2.0",
            "_model_name": "LayoutModel",
            "_view_count": null,
            "_view_module": "@jupyter-widgets/base",
            "_view_module_version": "1.2.0",
            "_view_name": "LayoutView",
            "align_content": null,
            "align_items": null,
            "align_self": null,
            "border": null,
            "bottom": null,
            "display": null,
            "flex": null,
            "flex_flow": null,
            "grid_area": null,
            "grid_auto_columns": null,
            "grid_auto_flow": null,
            "grid_auto_rows": null,
            "grid_column": null,
            "grid_gap": null,
            "grid_row": null,
            "grid_template_areas": null,
            "grid_template_columns": null,
            "grid_template_rows": null,
            "height": null,
            "justify_content": null,
            "justify_items": null,
            "left": null,
            "margin": null,
            "max_height": null,
            "max_width": null,
            "min_height": null,
            "min_width": null,
            "object_fit": null,
            "object_position": null,
            "order": null,
            "overflow": null,
            "overflow_x": null,
            "overflow_y": null,
            "padding": null,
            "right": null,
            "top": null,
            "visibility": null,
            "width": null
          }
        },
        "1e7f435929fe456b97b894f561eb4ca6": {
          "model_module": "@jupyter-widgets/controls",
          "model_name": "ButtonStyleModel",
          "model_module_version": "1.5.0",
          "state": {
            "_model_module": "@jupyter-widgets/controls",
            "_model_module_version": "1.5.0",
            "_model_name": "ButtonStyleModel",
            "_view_count": null,
            "_view_module": "@jupyter-widgets/base",
            "_view_module_version": "1.2.0",
            "_view_name": "StyleView",
            "button_color": null,
            "font_weight": ""
          }
        },
        "dbbc8a3b7e3c4f70b451ea9200e19967": {
          "model_module": "@jupyter-widgets/base",
          "model_name": "LayoutModel",
          "model_module_version": "1.2.0",
          "state": {
            "_model_module": "@jupyter-widgets/base",
            "_model_module_version": "1.2.0",
            "_model_name": "LayoutModel",
            "_view_count": null,
            "_view_module": "@jupyter-widgets/base",
            "_view_module_version": "1.2.0",
            "_view_name": "LayoutView",
            "align_content": null,
            "align_items": null,
            "align_self": null,
            "border": null,
            "bottom": null,
            "display": null,
            "flex": null,
            "flex_flow": null,
            "grid_area": null,
            "grid_auto_columns": null,
            "grid_auto_flow": null,
            "grid_auto_rows": null,
            "grid_column": null,
            "grid_gap": null,
            "grid_row": null,
            "grid_template_areas": null,
            "grid_template_columns": null,
            "grid_template_rows": null,
            "height": null,
            "justify_content": null,
            "justify_items": null,
            "left": null,
            "margin": null,
            "max_height": null,
            "max_width": null,
            "min_height": null,
            "min_width": null,
            "object_fit": null,
            "object_position": null,
            "order": null,
            "overflow": null,
            "overflow_x": null,
            "overflow_y": null,
            "padding": null,
            "right": null,
            "top": null,
            "visibility": null,
            "width": null
          }
        },
        "afd90f5ce67244de9c14fb89cb11a2fa": {
          "model_module": "@jupyter-widgets/controls",
          "model_name": "ButtonStyleModel",
          "model_module_version": "1.5.0",
          "state": {
            "_model_module": "@jupyter-widgets/controls",
            "_model_module_version": "1.5.0",
            "_model_name": "ButtonStyleModel",
            "_view_count": null,
            "_view_module": "@jupyter-widgets/base",
            "_view_module_version": "1.2.0",
            "_view_name": "StyleView",
            "button_color": null,
            "font_weight": ""
          }
        },
        "81f0820b7fc94082a9fb4dd7f7d211c8": {
          "model_module": "@jupyter-widgets/base",
          "model_name": "LayoutModel",
          "model_module_version": "1.2.0",
          "state": {
            "_model_module": "@jupyter-widgets/base",
            "_model_module_version": "1.2.0",
            "_model_name": "LayoutModel",
            "_view_count": null,
            "_view_module": "@jupyter-widgets/base",
            "_view_module_version": "1.2.0",
            "_view_name": "LayoutView",
            "align_content": null,
            "align_items": null,
            "align_self": null,
            "border": null,
            "bottom": null,
            "display": null,
            "flex": null,
            "flex_flow": null,
            "grid_area": null,
            "grid_auto_columns": null,
            "grid_auto_flow": null,
            "grid_auto_rows": null,
            "grid_column": null,
            "grid_gap": null,
            "grid_row": null,
            "grid_template_areas": null,
            "grid_template_columns": null,
            "grid_template_rows": null,
            "height": null,
            "justify_content": null,
            "justify_items": null,
            "left": null,
            "margin": null,
            "max_height": null,
            "max_width": null,
            "min_height": null,
            "min_width": null,
            "object_fit": null,
            "object_position": null,
            "order": null,
            "overflow": null,
            "overflow_x": null,
            "overflow_y": null,
            "padding": null,
            "right": null,
            "top": null,
            "visibility": null,
            "width": null
          }
        },
        "f1b2d3ab27c649829d9b8303149fe131": {
          "model_module": "@jupyter-widgets/controls",
          "model_name": "DescriptionStyleModel",
          "model_module_version": "1.5.0",
          "state": {
            "_model_module": "@jupyter-widgets/controls",
            "_model_module_version": "1.5.0",
            "_model_name": "DescriptionStyleModel",
            "_view_count": null,
            "_view_module": "@jupyter-widgets/base",
            "_view_module_version": "1.2.0",
            "_view_name": "StyleView",
            "description_width": ""
          }
        },
        "799983c144334cdba96e4d1cb8737996": {
          "model_module": "@jupyter-widgets/base",
          "model_name": "LayoutModel",
          "model_module_version": "1.2.0",
          "state": {
            "_model_module": "@jupyter-widgets/base",
            "_model_module_version": "1.2.0",
            "_model_name": "LayoutModel",
            "_view_count": null,
            "_view_module": "@jupyter-widgets/base",
            "_view_module_version": "1.2.0",
            "_view_name": "LayoutView",
            "align_content": null,
            "align_items": null,
            "align_self": null,
            "border": null,
            "bottom": null,
            "display": null,
            "flex": null,
            "flex_flow": null,
            "grid_area": null,
            "grid_auto_columns": null,
            "grid_auto_flow": null,
            "grid_auto_rows": null,
            "grid_column": null,
            "grid_gap": null,
            "grid_row": null,
            "grid_template_areas": null,
            "grid_template_columns": null,
            "grid_template_rows": null,
            "height": null,
            "justify_content": null,
            "justify_items": null,
            "left": null,
            "margin": null,
            "max_height": null,
            "max_width": null,
            "min_height": null,
            "min_width": null,
            "object_fit": null,
            "object_position": null,
            "order": null,
            "overflow": null,
            "overflow_x": null,
            "overflow_y": null,
            "padding": null,
            "right": null,
            "top": null,
            "visibility": null,
            "width": null
          }
        }
      }
    }
  },
  "cells": [
    {
      "cell_type": "markdown",
      "metadata": {
        "id": "view-in-github",
        "colab_type": "text"
      },
      "source": [
        "<a href=\"https://colab.research.google.com/github/vzhusel/fastai_practise/blob/main/002_owles_recognizer_app.ipynb\" target=\"_parent\"><img src=\"https://colab.research.google.com/assets/colab-badge.svg\" alt=\"Open In Colab\"/></a>"
      ]
    },
    {
      "cell_type": "code",
      "source": [
        "#hide\n",
        "!pip install fastai\n",
        "!pip install voila\n",
        "!jupyter serverextension enable --sys-prefix voila"
      ],
      "metadata": {
        "colab": {
          "base_uri": "https://localhost:8080/",
          "height": 1000
        },
        "id": "CUfSFaDM1K5b",
        "outputId": "255d1153-1138-4055-8499-83781f6dda1e"
      },
      "execution_count": 15,
      "outputs": [
        {
          "output_type": "stream",
          "name": "stdout",
          "text": [
            "Collecting voila\n",
            "  Downloading voila-0.4.3-py3-none-any.whl (1.4 MB)\n",
            "\u001b[2K     \u001b[90m━━━━━━━━━━━━━━━━━━━━━━━━━━━━━━━━━━━━━━━━\u001b[0m \u001b[32m1.4/1.4 MB\u001b[0m \u001b[31m7.1 MB/s\u001b[0m eta \u001b[36m0:00:00\u001b[0m\n",
            "\u001b[?25hRequirement already satisfied: jupyter-client<9,>=6.1.3 in /usr/local/lib/python3.10/dist-packages (from voila) (6.1.12)\n",
            "Requirement already satisfied: jupyter-core>=4.11.0 in /usr/local/lib/python3.10/dist-packages (from voila) (5.3.1)\n",
            "Requirement already satisfied: jupyter-server<3,>=1.18 in /usr/local/lib/python3.10/dist-packages (from voila) (1.24.0)\n",
            "Collecting jupyterlab-server<3,>=2.3.0 (from voila)\n",
            "  Downloading jupyterlab_server-2.24.0-py3-none-any.whl (57 kB)\n",
            "\u001b[2K     \u001b[90m━━━━━━━━━━━━━━━━━━━━━━━━━━━━━━━━━━━━━━━━\u001b[0m \u001b[32m57.3/57.3 kB\u001b[0m \u001b[31m5.7 MB/s\u001b[0m eta \u001b[36m0:00:00\u001b[0m\n",
            "\u001b[?25hCollecting nbclient<0.8,>=0.4.0 (from voila)\n",
            "  Downloading nbclient-0.7.4-py3-none-any.whl (73 kB)\n",
            "\u001b[2K     \u001b[90m━━━━━━━━━━━━━━━━━━━━━━━━━━━━━━━━━━━━━━━━\u001b[0m \u001b[32m73.1/73.1 kB\u001b[0m \u001b[31m7.8 MB/s\u001b[0m eta \u001b[36m0:00:00\u001b[0m\n",
            "\u001b[?25hRequirement already satisfied: nbconvert<8,>=6.4.5 in /usr/local/lib/python3.10/dist-packages (from voila) (6.5.4)\n",
            "Requirement already satisfied: traitlets<6,>=5.0.3 in /usr/local/lib/python3.10/dist-packages (from voila) (5.7.1)\n",
            "Collecting websockets>=9.0 (from voila)\n",
            "  Downloading websockets-11.0.3-cp310-cp310-manylinux_2_5_x86_64.manylinux1_x86_64.manylinux_2_17_x86_64.manylinux2014_x86_64.whl (129 kB)\n",
            "\u001b[2K     \u001b[90m━━━━━━━━━━━━━━━━━━━━━━━━━━━━━━━━━━━━━━\u001b[0m \u001b[32m129.9/129.9 kB\u001b[0m \u001b[31m10.9 MB/s\u001b[0m eta \u001b[36m0:00:00\u001b[0m\n",
            "\u001b[?25hRequirement already satisfied: pyzmq>=13 in /usr/local/lib/python3.10/dist-packages (from jupyter-client<9,>=6.1.3->voila) (23.2.1)\n",
            "Requirement already satisfied: python-dateutil>=2.1 in /usr/local/lib/python3.10/dist-packages (from jupyter-client<9,>=6.1.3->voila) (2.8.2)\n",
            "Requirement already satisfied: tornado>=4.1 in /usr/local/lib/python3.10/dist-packages (from jupyter-client<9,>=6.1.3->voila) (6.3.1)\n",
            "Requirement already satisfied: platformdirs>=2.5 in /usr/local/lib/python3.10/dist-packages (from jupyter-core>=4.11.0->voila) (3.9.1)\n",
            "Requirement already satisfied: anyio<4,>=3.1.0 in /usr/local/lib/python3.10/dist-packages (from jupyter-server<3,>=1.18->voila) (3.7.1)\n",
            "Requirement already satisfied: argon2-cffi in /usr/local/lib/python3.10/dist-packages (from jupyter-server<3,>=1.18->voila) (21.3.0)\n",
            "Requirement already satisfied: jinja2 in /usr/local/lib/python3.10/dist-packages (from jupyter-server<3,>=1.18->voila) (3.1.2)\n",
            "Requirement already satisfied: nbformat>=5.2.0 in /usr/local/lib/python3.10/dist-packages (from jupyter-server<3,>=1.18->voila) (5.9.1)\n",
            "Requirement already satisfied: packaging in /usr/local/lib/python3.10/dist-packages (from jupyter-server<3,>=1.18->voila) (23.1)\n",
            "Requirement already satisfied: prometheus-client in /usr/local/lib/python3.10/dist-packages (from jupyter-server<3,>=1.18->voila) (0.17.1)\n",
            "Requirement already satisfied: Send2Trash in /usr/local/lib/python3.10/dist-packages (from jupyter-server<3,>=1.18->voila) (1.8.2)\n",
            "Requirement already satisfied: terminado>=0.8.3 in /usr/local/lib/python3.10/dist-packages (from jupyter-server<3,>=1.18->voila) (0.17.1)\n",
            "Requirement already satisfied: websocket-client in /usr/local/lib/python3.10/dist-packages (from jupyter-server<3,>=1.18->voila) (1.6.1)\n",
            "Requirement already satisfied: babel>=2.10 in /usr/local/lib/python3.10/dist-packages (from jupyterlab-server<3,>=2.3.0->voila) (2.12.1)\n",
            "Collecting json5>=0.9.0 (from jupyterlab-server<3,>=2.3.0->voila)\n",
            "  Downloading json5-0.9.14-py2.py3-none-any.whl (19 kB)\n",
            "Collecting jsonschema>=4.17.3 (from jupyterlab-server<3,>=2.3.0->voila)\n",
            "  Downloading jsonschema-4.18.6-py3-none-any.whl (83 kB)\n",
            "\u001b[2K     \u001b[90m━━━━━━━━━━━━━━━━━━━━━━━━━━━━━━━━━━━━━━━━\u001b[0m \u001b[32m83.2/83.2 kB\u001b[0m \u001b[31m8.6 MB/s\u001b[0m eta \u001b[36m0:00:00\u001b[0m\n",
            "\u001b[?25hCollecting requests>=2.28 (from jupyterlab-server<3,>=2.3.0->voila)\n",
            "  Downloading requests-2.31.0-py3-none-any.whl (62 kB)\n",
            "\u001b[2K     \u001b[90m━━━━━━━━━━━━━━━━━━━━━━━━━━━━━━━━━━━━━━━━\u001b[0m \u001b[32m62.6/62.6 kB\u001b[0m \u001b[31m6.6 MB/s\u001b[0m eta \u001b[36m0:00:00\u001b[0m\n",
            "\u001b[?25hRequirement already satisfied: lxml in /usr/local/lib/python3.10/dist-packages (from nbconvert<8,>=6.4.5->voila) (4.9.3)\n",
            "Requirement already satisfied: beautifulsoup4 in /usr/local/lib/python3.10/dist-packages (from nbconvert<8,>=6.4.5->voila) (4.11.2)\n",
            "Requirement already satisfied: bleach in /usr/local/lib/python3.10/dist-packages (from nbconvert<8,>=6.4.5->voila) (6.0.0)\n",
            "Requirement already satisfied: defusedxml in /usr/local/lib/python3.10/dist-packages (from nbconvert<8,>=6.4.5->voila) (0.7.1)\n",
            "Requirement already satisfied: entrypoints>=0.2.2 in /usr/local/lib/python3.10/dist-packages (from nbconvert<8,>=6.4.5->voila) (0.4)\n",
            "Requirement already satisfied: jupyterlab-pygments in /usr/local/lib/python3.10/dist-packages (from nbconvert<8,>=6.4.5->voila) (0.2.2)\n",
            "Requirement already satisfied: MarkupSafe>=2.0 in /usr/local/lib/python3.10/dist-packages (from nbconvert<8,>=6.4.5->voila) (2.1.3)\n",
            "Requirement already satisfied: mistune<2,>=0.8.1 in /usr/local/lib/python3.10/dist-packages (from nbconvert<8,>=6.4.5->voila) (0.8.4)\n",
            "Requirement already satisfied: pandocfilters>=1.4.1 in /usr/local/lib/python3.10/dist-packages (from nbconvert<8,>=6.4.5->voila) (1.5.0)\n",
            "Requirement already satisfied: pygments>=2.4.1 in /usr/local/lib/python3.10/dist-packages (from nbconvert<8,>=6.4.5->voila) (2.14.0)\n",
            "Requirement already satisfied: tinycss2 in /usr/local/lib/python3.10/dist-packages (from nbconvert<8,>=6.4.5->voila) (1.2.1)\n",
            "Requirement already satisfied: idna>=2.8 in /usr/local/lib/python3.10/dist-packages (from anyio<4,>=3.1.0->jupyter-server<3,>=1.18->voila) (3.4)\n",
            "Requirement already satisfied: sniffio>=1.1 in /usr/local/lib/python3.10/dist-packages (from anyio<4,>=3.1.0->jupyter-server<3,>=1.18->voila) (1.3.0)\n",
            "Requirement already satisfied: exceptiongroup in /usr/local/lib/python3.10/dist-packages (from anyio<4,>=3.1.0->jupyter-server<3,>=1.18->voila) (1.1.2)\n",
            "Requirement already satisfied: attrs>=22.2.0 in /usr/local/lib/python3.10/dist-packages (from jsonschema>=4.17.3->jupyterlab-server<3,>=2.3.0->voila) (23.1.0)\n",
            "Collecting jsonschema-specifications>=2023.03.6 (from jsonschema>=4.17.3->jupyterlab-server<3,>=2.3.0->voila)\n",
            "  Downloading jsonschema_specifications-2023.7.1-py3-none-any.whl (17 kB)\n",
            "Collecting referencing>=0.28.4 (from jsonschema>=4.17.3->jupyterlab-server<3,>=2.3.0->voila)\n",
            "  Downloading referencing-0.30.2-py3-none-any.whl (25 kB)\n",
            "Collecting rpds-py>=0.7.1 (from jsonschema>=4.17.3->jupyterlab-server<3,>=2.3.0->voila)\n",
            "  Downloading rpds_py-0.9.2-cp310-cp310-manylinux_2_17_x86_64.manylinux2014_x86_64.whl (1.2 MB)\n",
            "\u001b[2K     \u001b[90m━━━━━━━━━━━━━━━━━━━━━━━━━━━━━━━━━━━━━━━━\u001b[0m \u001b[32m1.2/1.2 MB\u001b[0m \u001b[31m11.8 MB/s\u001b[0m eta \u001b[36m0:00:00\u001b[0m\n",
            "\u001b[?25hRequirement already satisfied: fastjsonschema in /usr/local/lib/python3.10/dist-packages (from nbformat>=5.2.0->jupyter-server<3,>=1.18->voila) (2.18.0)\n",
            "Requirement already satisfied: six>=1.5 in /usr/local/lib/python3.10/dist-packages (from python-dateutil>=2.1->jupyter-client<9,>=6.1.3->voila) (1.16.0)\n",
            "Requirement already satisfied: charset-normalizer<4,>=2 in /usr/local/lib/python3.10/dist-packages (from requests>=2.28->jupyterlab-server<3,>=2.3.0->voila) (2.0.12)\n",
            "Requirement already satisfied: urllib3<3,>=1.21.1 in /usr/local/lib/python3.10/dist-packages (from requests>=2.28->jupyterlab-server<3,>=2.3.0->voila) (1.26.16)\n",
            "Requirement already satisfied: certifi>=2017.4.17 in /usr/local/lib/python3.10/dist-packages (from requests>=2.28->jupyterlab-server<3,>=2.3.0->voila) (2023.7.22)\n",
            "Requirement already satisfied: ptyprocess in /usr/local/lib/python3.10/dist-packages (from terminado>=0.8.3->jupyter-server<3,>=1.18->voila) (0.7.0)\n",
            "Requirement already satisfied: argon2-cffi-bindings in /usr/local/lib/python3.10/dist-packages (from argon2-cffi->jupyter-server<3,>=1.18->voila) (21.2.0)\n",
            "Requirement already satisfied: soupsieve>1.2 in /usr/local/lib/python3.10/dist-packages (from beautifulsoup4->nbconvert<8,>=6.4.5->voila) (2.4.1)\n",
            "Requirement already satisfied: webencodings in /usr/local/lib/python3.10/dist-packages (from bleach->nbconvert<8,>=6.4.5->voila) (0.5.1)\n",
            "Requirement already satisfied: cffi>=1.0.1 in /usr/local/lib/python3.10/dist-packages (from argon2-cffi-bindings->argon2-cffi->jupyter-server<3,>=1.18->voila) (1.15.1)\n",
            "Requirement already satisfied: pycparser in /usr/local/lib/python3.10/dist-packages (from cffi>=1.0.1->argon2-cffi-bindings->argon2-cffi->jupyter-server<3,>=1.18->voila) (2.21)\n",
            "Installing collected packages: json5, websockets, rpds-py, requests, referencing, jsonschema-specifications, jsonschema, nbclient, jupyterlab-server, voila\n",
            "  Attempting uninstall: requests\n",
            "    Found existing installation: requests 2.27.1\n",
            "    Uninstalling requests-2.27.1:\n",
            "      Successfully uninstalled requests-2.27.1\n",
            "  Attempting uninstall: jsonschema\n",
            "    Found existing installation: jsonschema 4.3.3\n",
            "    Uninstalling jsonschema-4.3.3:\n",
            "      Successfully uninstalled jsonschema-4.3.3\n",
            "  Attempting uninstall: nbclient\n",
            "    Found existing installation: nbclient 0.8.0\n",
            "    Uninstalling nbclient-0.8.0:\n",
            "      Successfully uninstalled nbclient-0.8.0\n",
            "\u001b[31mERROR: pip's dependency resolver does not currently take into account all the packages that are installed. This behaviour is the source of the following dependency conflicts.\n",
            "google-colab 1.0.0 requires requests==2.27.1, but you have requests 2.31.0 which is incompatible.\u001b[0m\u001b[31m\n",
            "\u001b[0mSuccessfully installed json5-0.9.14 jsonschema-4.18.6 jsonschema-specifications-2023.7.1 jupyterlab-server-2.24.0 nbclient-0.7.4 referencing-0.30.2 requests-2.31.0 rpds-py-0.9.2 voila-0.4.3 websockets-11.0.3\n"
          ]
        },
        {
          "output_type": "display_data",
          "data": {
            "application/vnd.colab-display-data+json": {
              "pip_warning": {
                "packages": [
                  "requests"
                ]
              }
            }
          },
          "metadata": {}
        },
        {
          "output_type": "stream",
          "name": "stdout",
          "text": [
            "Enabling: voila\n",
            "- Writing config: /usr/etc/jupyter\n",
            "    - Validating...\n",
            "      voila 0.4.3 \u001b[32mOK\u001b[0m\n"
          ]
        }
      ]
    },
    {
      "cell_type": "code",
      "execution_count": 1,
      "metadata": {
        "id": "LDn669LgDEVJ"
      },
      "outputs": [],
      "source": [
        "from fastai.vision.all import *\n",
        "from fastai.vision.widgets import *"
      ]
    },
    {
      "cell_type": "code",
      "source": [
        "path = Path()\n",
        "learn_inf = load_learner(path/'002_owl_model.pkl')"
      ],
      "metadata": {
        "id": "GaNvrx5IExpI"
      },
      "execution_count": 43,
      "outputs": []
    },
    {
      "cell_type": "code",
      "source": [
        "#hide_output\n",
        "btn_upload = widgets.FileUpload()\n",
        "out_pl = widgets.Output()\n",
        "lbl_pred = widgets.Label()\n",
        "btn_run = widgets.Button(description='Classify')"
      ],
      "metadata": {
        "id": "OBUFTz2251PN"
      },
      "execution_count": 40,
      "outputs": []
    },
    {
      "cell_type": "code",
      "source": [
        "def on_click_classify(change):\n",
        "    img = PILImage.create(btn_upload.data[-1])\n",
        "    #img = PILImage.create(btn_upload.value[0].content.tobytes())\n",
        "    out_pl.clear_output()\n",
        "    with out_pl: display(img.to_thumb(128,128))\n",
        "    pred,pred_idx,probs = learn_inf.predict(img)\n",
        "    lbl_pred.value = f'Prediction: {pred}; Probability: {probs[pred_idx]:.04f}'\n",
        "\n",
        "btn_run.on_click(on_click_classify)"
      ],
      "metadata": {
        "id": "DfzXbYH50wDt"
      },
      "execution_count": 41,
      "outputs": []
    },
    {
      "cell_type": "code",
      "source": [
        "#hide_output\n",
        "VBox([widgets.Label('Select your owl!'),\n",
        "      btn_upload, btn_run, out_pl, lbl_pred])"
      ],
      "metadata": {
        "colab": {
          "base_uri": "https://localhost:8080/",
          "height": 273,
          "referenced_widgets": [
            "c18b786c61cd4445b003f3f7d21908c0",
            "809306cd985b4e648e3329a5c73ee504",
            "30e432ee3551432ab60ad8ebeea731b4",
            "2b0e45d8ed224cb198aa1a74eef19d25",
            "5b0e63cc02174fd18bcf6088a67be330",
            "573d02316d5e4e469f30e93866ad4134",
            "04f75c455716487387ac30734e10e6a8",
            "6965622b2a8c4e62b43cd5b02c1d5ddf",
            "0e62270c908f4af1b240d42f841833a0",
            "7c3d58a3d1994799be56b0617a42d2fa",
            "1e7f435929fe456b97b894f561eb4ca6",
            "dbbc8a3b7e3c4f70b451ea9200e19967",
            "afd90f5ce67244de9c14fb89cb11a2fa",
            "81f0820b7fc94082a9fb4dd7f7d211c8",
            "f1b2d3ab27c649829d9b8303149fe131",
            "799983c144334cdba96e4d1cb8737996"
          ]
        },
        "id": "FnEXkEBp02bI",
        "outputId": "fb7b9453-06ad-41f5-9c86-15c6912f8708"
      },
      "execution_count": 42,
      "outputs": [
        {
          "output_type": "display_data",
          "data": {
            "text/plain": [
              "VBox(children=(Label(value='Select your owl!'), FileUpload(value={}, description='Upload'), Button(description…"
            ],
            "application/vnd.jupyter.widget-view+json": {
              "version_major": 2,
              "version_minor": 0,
              "model_id": "c18b786c61cd4445b003f3f7d21908c0"
            }
          },
          "metadata": {}
        },
        {
          "output_type": "display_data",
          "data": {
            "text/plain": [
              "<IPython.core.display.HTML object>"
            ],
            "text/html": [
              "\n",
              "<style>\n",
              "    /* Turns off some styling */\n",
              "    progress {\n",
              "        /* gets rid of default border in Firefox and Opera. */\n",
              "        border: none;\n",
              "        /* Needs to be in here for Safari polyfill so background images work as expected. */\n",
              "        background-size: auto;\n",
              "    }\n",
              "    progress:not([value]), progress:not([value])::-webkit-progress-bar {\n",
              "        background: repeating-linear-gradient(45deg, #7e7e7e, #7e7e7e 10px, #5c5c5c 10px, #5c5c5c 20px);\n",
              "    }\n",
              "    .progress-bar-interrupted, .progress-bar-interrupted::-webkit-progress-bar {\n",
              "        background: #F44336;\n",
              "    }\n",
              "</style>\n"
            ]
          },
          "metadata": {}
        },
        {
          "output_type": "display_data",
          "data": {
            "text/plain": [
              "<IPython.core.display.HTML object>"
            ],
            "text/html": []
          },
          "metadata": {}
        }
      ]
    }
  ]
}